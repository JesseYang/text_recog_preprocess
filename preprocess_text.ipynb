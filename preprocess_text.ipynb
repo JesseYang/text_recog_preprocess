{
 "cells": [
  {
   "cell_type": "code",
   "execution_count": 34,
   "metadata": {
    "collapsed": true
   },
   "outputs": [],
   "source": [
    "from string import ascii_lowercase"
   ]
  },
  {
   "cell_type": "code",
   "execution_count": 69,
   "metadata": {
    "collapsed": true
   },
   "outputs": [],
   "source": [
    "dictionary = [' ']\n",
    "for i in range(10):\n",
    "    dictionary.append(str((i)))\n",
    "for c in ascii_lowercase:\n",
    "    dictionary.append(c)\n",
    "dictionary.append('(')\n",
    "dictionary.append(')')\n",
    "dictionary.append('[')\n",
    "dictionary.append(']')\n",
    "dictionary.append('{')\n",
    "dictionary.append('}')\n",
    "dictionary.append('.')\n",
    "dictionary.append(':')\n",
    "dictionary.append('?')\n",
    "dictionary.append('>')\n",
    "dictionary.append('<')\n",
    "dictionary.append('&')\n",
    "dictionary.append('\\'')\n",
    "dictionary.append('\\\"')\n",
    "dictionary.append('-')\n",
    "dictionary.append('%')\n",
    "dictionary.append('$')\n",
    "dictionary.append('*')\n",
    "dictionary.append('/')\n",
    "\n",
    "char_map = { }\n",
    "char_map[','] = '.'\n",
    "char_map[';'] = ':'"
   ]
  },
  {
   "cell_type": "code",
   "execution_count": 70,
   "metadata": {
    "collapsed": false
   },
   "outputs": [],
   "source": [
    "name = \"deep_learning\"\n",
    "text_file = \"eng_text_\" + name\n",
    "target_file = \"eng_text_\" + name + \"_processed\"\n",
    "lines_processed = []\n",
    "with open(text_file) as f:\n",
    "    text_lines = f.readlines()\n",
    "labels = []\n",
    "for line_text in text_lines:\n",
    "    line_text = line_text.strip().lower()\n",
    "    for k in char_map:\n",
    "        line_text = line_text.replace(k, char_map[k])\n",
    "    line_processed = line_text\n",
    "    for c in line_text:\n",
    "        if c not in dictionary:\n",
    "            line_processed = line_processed.replace(c, \"\")\n",
    "        if c not in dictionary and c not in labels:\n",
    "            labels.append(c)\n",
    "    lines_processed.append(line_processed)\n",
    "with open(target_file, \"w\") as text_file:\n",
    "    for line_processed in lines_processed:\n",
    "        text_file.write(line_processed + '\\n')"
   ]
  },
  {
   "cell_type": "code",
   "execution_count": 71,
   "metadata": {
    "collapsed": false
   },
   "outputs": [
    {
     "data": {
      "text/plain": [
       "['\\xe2', '\\x80', '\\x93', '\\xc3', '\\xbc', '\\x94']"
      ]
     },
     "execution_count": 71,
     "metadata": {},
     "output_type": "execute_result"
    }
   ],
   "source": [
    "labels"
   ]
  },
  {
   "cell_type": "code",
   "execution_count": 72,
   "metadata": {
    "collapsed": false
   },
   "outputs": [
    {
     "data": {
      "text/plain": [
       "56"
      ]
     },
     "execution_count": 72,
     "metadata": {},
     "output_type": "execute_result"
    }
   ],
   "source": [
    "len(dictionary)"
   ]
  },
  {
   "cell_type": "code",
   "execution_count": null,
   "metadata": {
    "collapsed": true
   },
   "outputs": [],
   "source": []
  }
 ],
 "metadata": {
  "kernelspec": {
   "display_name": "Python 2",
   "language": "python",
   "name": "python2"
  },
  "language_info": {
   "codemirror_mode": {
    "name": "ipython",
    "version": 2
   },
   "file_extension": ".py",
   "mimetype": "text/x-python",
   "name": "python",
   "nbconvert_exporter": "python",
   "pygments_lexer": "ipython2",
   "version": "2.7.6"
  }
 },
 "nbformat": 4,
 "nbformat_minor": 1
}
